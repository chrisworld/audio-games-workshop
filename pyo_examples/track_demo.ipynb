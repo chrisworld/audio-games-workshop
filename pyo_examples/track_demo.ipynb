{
 "cells": [
  {
   "cell_type": "markdown",
   "metadata": {},
   "source": [
    "# Simple Beats with Pyo\n",
    "\n",
    "Start the Server"
   ]
  },
  {
   "cell_type": "code",
   "execution_count": 2,
   "metadata": {},
   "outputs": [
    {
     "name": "stdout",
     "output_type": "stream",
     "text": [
      "Pyo warning: Sample rate set to Jack engine sample rate: 48000\n",
      "Pyo warning: Buffer size set to Jack engine buffer size: 1024\n"
     ]
    }
   ],
   "source": [
    "from pyo import *\n",
    "s = Server(audio=\"jack\").boot().start()"
   ]
  },
  {
   "cell_type": "markdown",
   "metadata": {},
   "source": [
    "Simple Beat"
   ]
  },
  {
   "cell_type": "code",
   "execution_count": 37,
   "metadata": {},
   "outputs": [],
   "source": [
    "wav = SquareTable()\n",
    "\n",
    "beat = Metro(time=1, poly=1).play()\n",
    "\n",
    "env = CosTable([(0, 0), (100, 1), (500, -1), (700, 1), (1200, -1), (8191, 0)])\n",
    "\n",
    "amp = TrigEnv(beat, table=env, dur=0.2, mul=0.5)\n",
    "\n",
    "pitch = TrigXnoiseMidi(beat, dist=3, scale=3, mrange=(30, 30))"
   ]
  },
  {
   "cell_type": "code",
   "execution_count": 38,
   "metadata": {},
   "outputs": [],
   "source": [
    "osc = Osc(table=wav, freq=pitch, mul=amp).mix(2).out()"
   ]
  },
  {
   "cell_type": "code",
   "execution_count": 23,
   "metadata": {},
   "outputs": [
    {
     "data": {
      "text/plain": [
       "< Instance of Mix class >"
      ]
     },
     "execution_count": 23,
     "metadata": {},
     "output_type": "execute_result"
    }
   ],
   "source": [
    "osc.stop()"
   ]
  },
  {
   "cell_type": "markdown",
   "metadata": {},
   "source": [
    "Second Synth:"
   ]
  },
  {
   "cell_type": "code",
   "execution_count": 55,
   "metadata": {},
   "outputs": [],
   "source": [
    "sig = SawTable(order=12).normalize()\n",
    "\n",
    "m_synth = Metro(time=0.2, poly=1).play()\n",
    "\n",
    "lfo = LFO(freq=1, sharp=0.2, type=4, mul=110, add=220)\n",
    "\n",
    "env_synth = TrigEnv(m_synth, table=sig, dur=0.5)"
   ]
  },
  {
   "cell_type": "code",
   "execution_count": 57,
   "metadata": {},
   "outputs": [],
   "source": [
    "synth = FM(carrier=[200, 201], ratio=[0.2, 0.2], index=env_synth, mul=0.3).out()"
   ]
  },
  {
   "cell_type": "code",
   "execution_count": 52,
   "metadata": {},
   "outputs": [
    {
     "data": {
      "text/plain": [
       "< Instance of FM class >"
      ]
     },
     "execution_count": 52,
     "metadata": {},
     "output_type": "execute_result"
    }
   ],
   "source": [
    "synth.stop()"
   ]
  },
  {
   "cell_type": "code",
   "execution_count": 56,
   "metadata": {},
   "outputs": [],
   "source": [
    "synth2 = FM(carrier=lfo, ratio=[0.2, 0.2], index=env_synth, mul=0.2).out()"
   ]
  },
  {
   "cell_type": "code",
   "execution_count": 58,
   "metadata": {},
   "outputs": [
    {
     "data": {
      "text/plain": [
       "< Instance of FM class >"
      ]
     },
     "execution_count": 58,
     "metadata": {},
     "output_type": "execute_result"
    }
   ],
   "source": [
    "synth2.stop()"
   ]
  },
  {
   "cell_type": "raw",
   "metadata": {},
   "source": [
    "Saw:"
   ]
  },
  {
   "cell_type": "code",
   "execution_count": 59,
   "metadata": {},
   "outputs": [],
   "source": [
    "lfd = Sine([.4, .2], mul=.2, add=.5)\n",
    "saw = SuperSaw(freq=300, detune=lfd, bal=0.5, mul=0.2).out()"
   ]
  },
  {
   "cell_type": "code",
   "execution_count": 60,
   "metadata": {},
   "outputs": [
    {
     "data": {
      "text/plain": [
       "< Instance of SuperSaw class >"
      ]
     },
     "execution_count": 60,
     "metadata": {},
     "output_type": "execute_result"
    }
   ],
   "source": [
    "saw.stop()"
   ]
  },
  {
   "cell_type": "code",
   "execution_count": 61,
   "metadata": {},
   "outputs": [],
   "source": [
    "s.stop()"
   ]
  }
 ],
 "metadata": {
  "kernelspec": {
   "display_name": "Python 3",
   "language": "python",
   "name": "python3"
  },
  "language_info": {
   "codemirror_mode": {
    "name": "ipython",
    "version": 3
   },
   "file_extension": ".py",
   "mimetype": "text/x-python",
   "name": "python",
   "nbconvert_exporter": "python",
   "pygments_lexer": "ipython3",
   "version": "3.7.3"
  }
 },
 "nbformat": 4,
 "nbformat_minor": 2
}
